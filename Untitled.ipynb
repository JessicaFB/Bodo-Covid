{
 "cells": [
  {
   "cell_type": "markdown",
   "metadata": {
    "toc": true
   },
   "source": [
    "<h1>Table of Contents<span class=\"tocSkip\"></span></h1>\n",
    "<div class=\"toc\"><ul class=\"toc-item\"><li><span><a href=\"#Import-Packages\" data-toc-modified-id=\"Import-Packages-1\"><span class=\"toc-item-num\">1&nbsp;&nbsp;</span>Import Packages</a></span></li><li><span><a href=\"#Import-Data-+-Explore\" data-toc-modified-id=\"Import-Data-+-Explore-2\"><span class=\"toc-item-num\">2&nbsp;&nbsp;</span>Import Data + Explore</a></span></li></ul></div>"
   ]
  },
  {
   "cell_type": "markdown",
   "metadata": {},
   "source": [
    "# Import Packages"
   ]
  },
  {
   "cell_type": "code",
   "execution_count": 12,
   "metadata": {},
   "outputs": [],
   "source": [
    "import pandas as pd\n",
    "import numpy as np\n",
    "import seaborn as sns\n",
    "import matplotlib.pyplot as plt\n",
    "%matplotlib inline"
   ]
  },
  {
   "cell_type": "markdown",
   "metadata": {},
   "source": [
    "# Import Data + Explore"
   ]
  },
  {
   "cell_type": "code",
   "execution_count": 6,
   "metadata": {},
   "outputs": [],
   "source": [
    "# Import data into dataframe - skip first two rows as they are not data\n",
    "df_vaccs = pd.read_csv('covid19_vaccinations_in_the_united_states.csv', skiprows=2)"
   ]
  },
  {
   "cell_type": "code",
   "execution_count": 10,
   "metadata": {},
   "outputs": [
    {
     "data": {
      "text/html": [
       "<div>\n",
       "<style scoped>\n",
       "    .dataframe tbody tr th:only-of-type {\n",
       "        vertical-align: middle;\n",
       "    }\n",
       "\n",
       "    .dataframe tbody tr th {\n",
       "        vertical-align: top;\n",
       "    }\n",
       "\n",
       "    .dataframe thead th {\n",
       "        text-align: right;\n",
       "    }\n",
       "</style>\n",
       "<table border=\"1\" class=\"dataframe\">\n",
       "  <thead>\n",
       "    <tr style=\"text-align: right;\">\n",
       "      <th></th>\n",
       "      <th>State/Territory/Federal Entity</th>\n",
       "      <th>Total Distributed</th>\n",
       "      <th>Total Administered</th>\n",
       "      <th>Distributed per 100K</th>\n",
       "      <th>Administered per 100K</th>\n",
       "    </tr>\n",
       "  </thead>\n",
       "  <tbody>\n",
       "    <tr>\n",
       "      <td>0</td>\n",
       "      <td>Alaska</td>\n",
       "      <td>132350</td>\n",
       "      <td>35027</td>\n",
       "      <td>18092.0</td>\n",
       "      <td>4788.0</td>\n",
       "    </tr>\n",
       "    <tr>\n",
       "      <td>1</td>\n",
       "      <td>Alabama</td>\n",
       "      <td>326850</td>\n",
       "      <td>76528</td>\n",
       "      <td>6666.0</td>\n",
       "      <td>1561.0</td>\n",
       "    </tr>\n",
       "    <tr>\n",
       "      <td>2</td>\n",
       "      <td>Arkansas</td>\n",
       "      <td>250200</td>\n",
       "      <td>40879</td>\n",
       "      <td>8291.0</td>\n",
       "      <td>1355.0</td>\n",
       "    </tr>\n",
       "    <tr>\n",
       "      <td>3</td>\n",
       "      <td>American Samoa</td>\n",
       "      <td>10650</td>\n",
       "      <td>2054</td>\n",
       "      <td>19124.0</td>\n",
       "      <td>3688.0</td>\n",
       "    </tr>\n",
       "    <tr>\n",
       "      <td>4</td>\n",
       "      <td>Arizona</td>\n",
       "      <td>563025</td>\n",
       "      <td>137860</td>\n",
       "      <td>7735.0</td>\n",
       "      <td>1894.0</td>\n",
       "    </tr>\n",
       "  </tbody>\n",
       "</table>\n",
       "</div>"
      ],
      "text/plain": [
       "  State/Territory/Federal Entity  Total Distributed  Total Administered  \\\n",
       "0                         Alaska             132350               35027   \n",
       "1                        Alabama             326850               76528   \n",
       "2                       Arkansas             250200               40879   \n",
       "3                 American Samoa              10650                2054   \n",
       "4                        Arizona             563025              137860   \n",
       "\n",
       "   Distributed per 100K  Administered per 100K  \n",
       "0               18092.0                 4788.0  \n",
       "1                6666.0                 1561.0  \n",
       "2                8291.0                 1355.0  \n",
       "3               19124.0                 3688.0  \n",
       "4                7735.0                 1894.0  "
      ]
     },
     "execution_count": 10,
     "metadata": {},
     "output_type": "execute_result"
    }
   ],
   "source": [
    "# Preview first 5 rows\n",
    "df_vaccs.head()"
   ]
  },
  {
   "cell_type": "code",
   "execution_count": 14,
   "metadata": {},
   "outputs": [
    {
     "name": "stdout",
     "output_type": "stream",
     "text": [
      "<class 'pandas.core.frame.DataFrame'>\n",
      "RangeIndex: 63 entries, 0 to 62\n",
      "Data columns (total 5 columns):\n",
      "State/Territory/Federal Entity    63 non-null object\n",
      "Total Distributed                 63 non-null int64\n",
      "Total Administered                63 non-null int64\n",
      "Distributed per 100K              59 non-null float64\n",
      "Administered per 100K             59 non-null float64\n",
      "dtypes: float64(2), int64(2), object(1)\n",
      "memory usage: 2.6+ KB\n"
     ]
    }
   ],
   "source": [
    "# Data info\n",
    "df_vaccs.info()"
   ]
  },
  {
   "cell_type": "markdown",
   "metadata": {},
   "source": [
    "It looks like Distributed and Administered have 4 null values. Let's take a look at those."
   ]
  },
  {
   "cell_type": "code",
   "execution_count": 15,
   "metadata": {},
   "outputs": [
    {
     "data": {
      "text/html": [
       "<div>\n",
       "<style scoped>\n",
       "    .dataframe tbody tr th:only-of-type {\n",
       "        vertical-align: middle;\n",
       "    }\n",
       "\n",
       "    .dataframe tbody tr th {\n",
       "        vertical-align: top;\n",
       "    }\n",
       "\n",
       "    .dataframe thead th {\n",
       "        text-align: right;\n",
       "    }\n",
       "</style>\n",
       "<table border=\"1\" class=\"dataframe\">\n",
       "  <thead>\n",
       "    <tr style=\"text-align: right;\">\n",
       "      <th></th>\n",
       "      <th>State/Territory/Federal Entity</th>\n",
       "      <th>Total Distributed</th>\n",
       "      <th>Total Administered</th>\n",
       "      <th>Distributed per 100K</th>\n",
       "      <th>Administered per 100K</th>\n",
       "    </tr>\n",
       "  </thead>\n",
       "  <tbody>\n",
       "    <tr>\n",
       "      <td>5</td>\n",
       "      <td>Bureau of Prisons</td>\n",
       "      <td>16050</td>\n",
       "      <td>13891</td>\n",
       "      <td>NaN</td>\n",
       "      <td>NaN</td>\n",
       "    </tr>\n",
       "    <tr>\n",
       "      <td>10</td>\n",
       "      <td>Dept of Defense</td>\n",
       "      <td>353500</td>\n",
       "      <td>136557</td>\n",
       "      <td>NaN</td>\n",
       "      <td>NaN</td>\n",
       "    </tr>\n",
       "    <tr>\n",
       "      <td>19</td>\n",
       "      <td>Indian Health Svc</td>\n",
       "      <td>223450</td>\n",
       "      <td>65154</td>\n",
       "      <td>NaN</td>\n",
       "      <td>NaN</td>\n",
       "    </tr>\n",
       "    <tr>\n",
       "      <td>56</td>\n",
       "      <td>Veterans Health</td>\n",
       "      <td>804525</td>\n",
       "      <td>224109</td>\n",
       "      <td>NaN</td>\n",
       "      <td>NaN</td>\n",
       "    </tr>\n",
       "  </tbody>\n",
       "</table>\n",
       "</div>"
      ],
      "text/plain": [
       "   State/Territory/Federal Entity  Total Distributed  Total Administered  \\\n",
       "5               Bureau of Prisons              16050               13891   \n",
       "10                Dept of Defense             353500              136557   \n",
       "19              Indian Health Svc             223450               65154   \n",
       "56                Veterans Health             804525              224109   \n",
       "\n",
       "    Distributed per 100K  Administered per 100K  \n",
       "5                    NaN                    NaN  \n",
       "10                   NaN                    NaN  \n",
       "19                   NaN                    NaN  \n",
       "56                   NaN                    NaN  "
      ]
     },
     "execution_count": 15,
     "metadata": {},
     "output_type": "execute_result"
    }
   ],
   "source": [
    "# Preview rows with null values\n",
    "df_vaccs[df_vaccs.isna().any(axis=1)]"
   ]
  },
  {
   "cell_type": "markdown",
   "metadata": {},
   "source": [
    "We can see that none of these are states, however since one question asks about fairness of distribution. It looks like since we don't know the total population of these Territories and Federal Entities, it would be challenging to ascertain if these were fairly distributed as we wouldn't be able to calculate amount distributed and administered per 100K. So we're going to go ahead and drop these."
   ]
  },
  {
   "cell_type": "code",
   "execution_count": 22,
   "metadata": {},
   "outputs": [],
   "source": [
    "# Drop the NaN values\n",
    "df_vaccs = df_vaccs.dropna()"
   ]
  },
  {
   "cell_type": "code",
   "execution_count": 18,
   "metadata": {},
   "outputs": [
    {
     "data": {
      "text/html": [
       "<div>\n",
       "<style scoped>\n",
       "    .dataframe tbody tr th:only-of-type {\n",
       "        vertical-align: middle;\n",
       "    }\n",
       "\n",
       "    .dataframe tbody tr th {\n",
       "        vertical-align: top;\n",
       "    }\n",
       "\n",
       "    .dataframe thead th {\n",
       "        text-align: right;\n",
       "    }\n",
       "</style>\n",
       "<table border=\"1\" class=\"dataframe\">\n",
       "  <thead>\n",
       "    <tr style=\"text-align: right;\">\n",
       "      <th></th>\n",
       "      <th>Total Distributed</th>\n",
       "      <th>Total Administered</th>\n",
       "      <th>Distributed per 100K</th>\n",
       "      <th>Administered per 100K</th>\n",
       "    </tr>\n",
       "  </thead>\n",
       "  <tbody>\n",
       "    <tr>\n",
       "      <td>count</td>\n",
       "      <td>63.0</td>\n",
       "      <td>63.0</td>\n",
       "      <td>59.0</td>\n",
       "      <td>59.0</td>\n",
       "    </tr>\n",
       "    <tr>\n",
       "      <td>mean</td>\n",
       "      <td>404456.0</td>\n",
       "      <td>142656.0</td>\n",
       "      <td>8790.0</td>\n",
       "      <td>2836.0</td>\n",
       "    </tr>\n",
       "    <tr>\n",
       "      <td>std</td>\n",
       "      <td>498354.0</td>\n",
       "      <td>173067.0</td>\n",
       "      <td>5137.0</td>\n",
       "      <td>1169.0</td>\n",
       "    </tr>\n",
       "    <tr>\n",
       "      <td>min</td>\n",
       "      <td>6000.0</td>\n",
       "      <td>305.0</td>\n",
       "      <td>6059.0</td>\n",
       "      <td>294.0</td>\n",
       "    </tr>\n",
       "    <tr>\n",
       "      <td>25%</td>\n",
       "      <td>89188.0</td>\n",
       "      <td>38288.0</td>\n",
       "      <td>7016.0</td>\n",
       "      <td>2218.0</td>\n",
       "    </tr>\n",
       "    <tr>\n",
       "      <td>50%</td>\n",
       "      <td>246950.0</td>\n",
       "      <td>79057.0</td>\n",
       "      <td>7430.0</td>\n",
       "      <td>2613.0</td>\n",
       "    </tr>\n",
       "    <tr>\n",
       "      <td>75%</td>\n",
       "      <td>500512.0</td>\n",
       "      <td>185786.0</td>\n",
       "      <td>7834.0</td>\n",
       "      <td>3649.0</td>\n",
       "    </tr>\n",
       "    <tr>\n",
       "      <td>max</td>\n",
       "      <td>2833400.0</td>\n",
       "      <td>852015.0</td>\n",
       "      <td>33506.0</td>\n",
       "      <td>6113.0</td>\n",
       "    </tr>\n",
       "  </tbody>\n",
       "</table>\n",
       "</div>"
      ],
      "text/plain": [
       "       Total Distributed  Total Administered  Distributed per 100K  \\\n",
       "count               63.0                63.0                  59.0   \n",
       "mean            404456.0            142656.0                8790.0   \n",
       "std             498354.0            173067.0                5137.0   \n",
       "min               6000.0               305.0                6059.0   \n",
       "25%              89188.0             38288.0                7016.0   \n",
       "50%             246950.0             79057.0                7430.0   \n",
       "75%             500512.0            185786.0                7834.0   \n",
       "max            2833400.0            852015.0               33506.0   \n",
       "\n",
       "       Administered per 100K  \n",
       "count                   59.0  \n",
       "mean                  2836.0  \n",
       "std                   1169.0  \n",
       "min                    294.0  \n",
       "25%                   2218.0  \n",
       "50%                   2613.0  \n",
       "75%                   3649.0  \n",
       "max                   6113.0  "
      ]
     },
     "execution_count": 18,
     "metadata": {},
     "output_type": "execute_result"
    }
   ],
   "source": [
    "# Let's take a look at the summary statistics\n",
    "df_vaccs.describe().round()"
   ]
  },
  {
   "cell_type": "code",
   "execution_count": 20,
   "metadata": {},
   "outputs": [
    {
     "data": {
      "image/png": "[encoded data removed]",
      "text/plain": [
       "<Figure size 720x720 with 20 Axes>"
      ]
     },
     "metadata": {
      "needs_background": "light"
     },
     "output_type": "display_data"
    }
   ],
   "source": [
    "sns.pairplot(df_vaccs);"
   ]
  },
  {
   "cell_type": "markdown",
   "metadata": {},
   "source": [
    "Total Distributed, Total Administered and Distributed per 100K all appear to be right skewed, with Administered per 100K appearing to be normally distributed. We can see there appears to be a positive linear relationship between Total Distributed and Total Administered, which makes sense. Distributed vaccines are being administered.\n",
    "\n",
    "This data set seems pretty straight forward. Let's take a look at our next set of data now. "
   ]
  },
  {
   "cell_type": "code",
   "execution_count": 8,
   "metadata": {},
   "outputs": [],
   "source": [
    "df_cases = pd.read_csv('United_States_COVID-19_Cases_and_Deaths_by_State_over_Time.csv')"
   ]
  },
  {
   "cell_type": "code",
   "execution_count": 11,
   "metadata": {},
   "outputs": [
    {
     "data": {
      "text/html": [
       "<div>\n",
       "<style scoped>\n",
       "    .dataframe tbody tr th:only-of-type {\n",
       "        vertical-align: middle;\n",
       "    }\n",
       "\n",
       "    .dataframe tbody tr th {\n",
       "        vertical-align: top;\n",
       "    }\n",
       "\n",
       "    .dataframe thead th {\n",
       "        text-align: right;\n",
       "    }\n",
       "</style>\n",
       "<table border=\"1\" class=\"dataframe\">\n",
       "  <thead>\n",
       "    <tr style=\"text-align: right;\">\n",
       "      <th></th>\n",
       "      <th>submission_date</th>\n",
       "      <th>state</th>\n",
       "      <th>tot_cases</th>\n",
       "      <th>conf_cases</th>\n",
       "      <th>prob_cases</th>\n",
       "      <th>new_case</th>\n",
       "      <th>pnew_case</th>\n",
       "      <th>tot_death</th>\n",
       "      <th>conf_death</th>\n",
       "      <th>prob_death</th>\n",
       "      <th>new_death</th>\n",
       "      <th>pnew_death</th>\n",
       "      <th>created_at</th>\n",
       "      <th>consent_cases</th>\n",
       "      <th>consent_deaths</th>\n",
       "    </tr>\n",
       "  </thead>\n",
       "  <tbody>\n",
       "    <tr>\n",
       "      <td>0</td>\n",
       "      <td>05/04/2020</td>\n",
       "      <td>KY</td>\n",
       "      <td>5245</td>\n",
       "      <td>5245.0</td>\n",
       "      <td>0.0</td>\n",
       "      <td>115</td>\n",
       "      <td>0.0</td>\n",
       "      <td>261</td>\n",
       "      <td>261.0</td>\n",
       "      <td>0.0</td>\n",
       "      <td>8</td>\n",
       "      <td>0.0</td>\n",
       "      <td>05/05/2020 05:25:08 PM</td>\n",
       "      <td>Agree</td>\n",
       "      <td>Agree</td>\n",
       "    </tr>\n",
       "    <tr>\n",
       "      <td>1</td>\n",
       "      <td>04/21/2020</td>\n",
       "      <td>MI</td>\n",
       "      <td>32967</td>\n",
       "      <td>32967.0</td>\n",
       "      <td>0.0</td>\n",
       "      <td>967</td>\n",
       "      <td>0.0</td>\n",
       "      <td>2700</td>\n",
       "      <td>2700.0</td>\n",
       "      <td>0.0</td>\n",
       "      <td>232</td>\n",
       "      <td>0.0</td>\n",
       "      <td>04/21/2020 04:22:39 PM</td>\n",
       "      <td>Agree</td>\n",
       "      <td>Agree</td>\n",
       "    </tr>\n",
       "    <tr>\n",
       "      <td>2</td>\n",
       "      <td>01/01/2021</td>\n",
       "      <td>FL</td>\n",
       "      <td>1300528</td>\n",
       "      <td>NaN</td>\n",
       "      <td>NaN</td>\n",
       "      <td>0</td>\n",
       "      <td>6063.0</td>\n",
       "      <td>21673</td>\n",
       "      <td>NaN</td>\n",
       "      <td>NaN</td>\n",
       "      <td>0</td>\n",
       "      <td>7.0</td>\n",
       "      <td>01/02/2021 02:50:51 PM</td>\n",
       "      <td>Not agree</td>\n",
       "      <td>Not agree</td>\n",
       "    </tr>\n",
       "    <tr>\n",
       "      <td>3</td>\n",
       "      <td>04/30/2020</td>\n",
       "      <td>IA</td>\n",
       "      <td>7145</td>\n",
       "      <td>NaN</td>\n",
       "      <td>NaN</td>\n",
       "      <td>302</td>\n",
       "      <td>0.0</td>\n",
       "      <td>162</td>\n",
       "      <td>NaN</td>\n",
       "      <td>NaN</td>\n",
       "      <td>14</td>\n",
       "      <td>0.0</td>\n",
       "      <td>05/01/2020 09:00:19 PM</td>\n",
       "      <td>Not agree</td>\n",
       "      <td>Not agree</td>\n",
       "    </tr>\n",
       "    <tr>\n",
       "      <td>4</td>\n",
       "      <td>06/25/2020</td>\n",
       "      <td>NE</td>\n",
       "      <td>18346</td>\n",
       "      <td>NaN</td>\n",
       "      <td>NaN</td>\n",
       "      <td>125</td>\n",
       "      <td>0.0</td>\n",
       "      <td>260</td>\n",
       "      <td>NaN</td>\n",
       "      <td>NaN</td>\n",
       "      <td>3</td>\n",
       "      <td>0.0</td>\n",
       "      <td>06/26/2020 07:18:27 PM</td>\n",
       "      <td>Not agree</td>\n",
       "      <td>Not agree</td>\n",
       "    </tr>\n",
       "  </tbody>\n",
       "</table>\n",
       "</div>"
      ],
      "text/plain": [
       "  submission_date state  tot_cases  conf_cases  prob_cases  new_case  \\\n",
       "0      05/04/2020    KY       5245      5245.0         0.0       115   \n",
       "1      04/21/2020    MI      32967     32967.0         0.0       967   \n",
       "2      01/01/2021    FL    1300528         NaN         NaN         0   \n",
       "3      04/30/2020    IA       7145         NaN         NaN       302   \n",
       "4      06/25/2020    NE      18346         NaN         NaN       125   \n",
       "\n",
       "   pnew_case  tot_death  conf_death  prob_death  new_death  pnew_death  \\\n",
       "0        0.0        261       261.0         0.0          8         0.0   \n",
       "1        0.0       2700      2700.0         0.0        232         0.0   \n",
       "2     6063.0      21673         NaN         NaN          0         7.0   \n",
       "3        0.0        162         NaN         NaN         14         0.0   \n",
       "4        0.0        260         NaN         NaN          3         0.0   \n",
       "\n",
       "               created_at consent_cases consent_deaths  \n",
       "0  05/05/2020 05:25:08 PM         Agree          Agree  \n",
       "1  04/21/2020 04:22:39 PM         Agree          Agree  \n",
       "2  01/02/2021 02:50:51 PM     Not agree      Not agree  \n",
       "3  05/01/2020 09:00:19 PM     Not agree      Not agree  \n",
       "4  06/26/2020 07:18:27 PM     Not agree      Not agree  "
      ]
     },
     "execution_count": 11,
     "metadata": {},
     "output_type": "execute_result"
    }
   ],
   "source": [
    "df_cases.head()"
   ]
  },
  {
   "cell_type": "code",
   "execution_count": 21,
   "metadata": {},
   "outputs": [
    {
     "name": "stdout",
     "output_type": "stream",
     "text": [
      "<class 'pandas.core.frame.DataFrame'>\n",
      "RangeIndex: 21420 entries, 0 to 21419\n",
      "Data columns (total 15 columns):\n",
      "submission_date    21420 non-null object\n",
      "state              21420 non-null object\n",
      "tot_cases          21420 non-null int64\n",
      "conf_cases         9009 non-null float64\n",
      "prob_cases         9009 non-null float64\n",
      "new_case           21420 non-null int64\n",
      "pnew_case          16300 non-null float64\n",
      "tot_death          21420 non-null int64\n",
      "conf_death         9479 non-null float64\n",
      "prob_death         9479 non-null float64\n",
      "new_death          21420 non-null int64\n",
      "pnew_death         16202 non-null float64\n",
      "created_at         21420 non-null object\n",
      "consent_cases      17493 non-null object\n",
      "consent_deaths     18207 non-null object\n",
      "dtypes: float64(6), int64(4), object(5)\n",
      "memory usage: 2.5+ MB\n"
     ]
    }
   ],
   "source": [
    "# Data info\n",
    "df_cases.info()"
   ]
  },
  {
   "cell_type": "markdown",
   "metadata": {},
   "source": [
    "We can see this data set is much larger. And there appear to be many null values in confirmed and probable cases as well as deaths. "
   ]
  }
 ],
 "metadata": {
  "kernelspec": {
   "display_name": "Python [conda env:learn-env] *",
   "language": "python",
   "name": "conda-env-learn-env-py"
  },
  "language_info": {
   "codemirror_mode": {
    "name": "ipython",
    "version": 3
   },
   "file_extension": ".py",
   "mimetype": "text/x-python",
   "name": "python",
   "nbconvert_exporter": "python",
   "pygments_lexer": "ipython3",
   "version": "3.6.9"
  },
  "toc": {
   "base_numbering": 1,
   "nav_menu": {},
   "number_sections": true,
   "sideBar": true,
   "skip_h1_title": false,
   "title_cell": "Table of Contents",
   "title_sidebar": "Contents",
   "toc_cell": true,
   "toc_position": {},
   "toc_section_display": true,
   "toc_window_display": false
  }
 },
 "nbformat": 4,
 "nbformat_minor": 2
}
